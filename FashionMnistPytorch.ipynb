{
  "nbformat": 4,
  "nbformat_minor": 0,
  "metadata": {
    "colab": {
      "name": "FashionMnistPytorch.ipynb",
      "provenance": [],
      "collapsed_sections": [],
      "authorship_tag": "ABX9TyPZ7gNSQzngAh3ltmaefs+q",
      "include_colab_link": true
    },
    "kernelspec": {
      "name": "python3",
      "display_name": "Python 3"
    },
    "language_info": {
      "name": "python"
    }
  },
  "cells": [
    {
      "cell_type": "markdown",
      "metadata": {
        "id": "view-in-github",
        "colab_type": "text"
      },
      "source": [
        "<a href=\"https://colab.research.google.com/github/emms204/FashionMNIST-with-Pytorch/blob/main/FashionMnistPytorch.ipynb\" target=\"_parent\"><img src=\"https://colab.research.google.com/assets/colab-badge.svg\" alt=\"Open In Colab\"/></a>"
      ]
    },
    {
      "cell_type": "code",
      "execution_count": null,
      "metadata": {
        "id": "0u11KyJj11J7"
      },
      "outputs": [],
      "source": [
        "import numpy as np\n",
        "import pandas as pd\n",
        "import matplotlib.pyplot as plt\n",
        "import torch\n",
        "import torchvision.transforms as transforms\n",
        "import torchvision.datasets as datasets\n",
        "import torch.nn as nn"
      ]
    },
    {
      "cell_type": "code",
      "source": [
        "def show_data(data_sample):\n",
        "    plt.imshow(data_sample[0].numpy().reshape(image_size, image_size), cmap='gray')\n",
        "    plt.title('y = '+ str(data_sample[1]))"
      ],
      "metadata": {
        "id": "m9wYQUUw-2Ts"
      },
      "execution_count": null,
      "outputs": []
    },
    {
      "cell_type": "code",
      "source": [
        "image_size = 16\n",
        "composed = transforms.Compose([transforms.Resize((image_size,image_size)),transforms.ToTensor()])"
      ],
      "metadata": {
        "id": "XKYXfO5F2XjF"
      },
      "execution_count": null,
      "outputs": []
    },
    {
      "cell_type": "code",
      "source": [
        "train_dataset = datasets.FashionMNIST(root='/.data', train=True, download=True, transform=composed)\n",
        "validation_dataset = datasets.FashionMNIST(root='/.data',transform=composed,download=True,train=False)"
      ],
      "metadata": {
        "id": "LeBCaoSs8giF"
      },
      "execution_count": null,
      "outputs": []
    },
    {
      "cell_type": "code",
      "source": [
        "train_dataset[0][1]"
      ],
      "metadata": {
        "colab": {
          "base_uri": "https://localhost:8080/"
        },
        "id": "skc2uYCv9M-x",
        "outputId": "c24c3142-a5c3-45c7-b514-a917076e5499"
      },
      "execution_count": null,
      "outputs": [
        {
          "output_type": "execute_result",
          "data": {
            "text/plain": [
              "9"
            ]
          },
          "metadata": {},
          "execution_count": 151
        }
      ]
    },
    {
      "cell_type": "code",
      "source": [
        "fig = plt.figure(figsize=(20, 14))\n",
        "fig.add_subplot(2, 2, 1)\n",
        "  \n",
        "# showing image\n",
        "plt.imshow(validation_dataset[0][0].numpy().reshape(image_size, image_size), cmap='gray')\n",
        "plt.axis('off')\n",
        "plt.title(\"First\")\n",
        "  \n",
        "# Adds a subplot at the 2nd position\n",
        "fig.add_subplot(2, 2, 2)\n",
        "  \n",
        "# showing image\n",
        "plt.imshow(validation_dataset[1][0].numpy().reshape(image_size, image_size), cmap='gray')\n",
        "plt.axis('off')\n",
        "plt.title(\"Second\")\n",
        "  \n",
        "fig.add_subplot(2, 2, 3)\n",
        "  \n",
        "# showing image\n",
        "plt.imshow(validation_dataset[2][0].numpy().reshape(image_size, image_size), cmap='gray')\n",
        "plt.axis('off')\n",
        "plt.title(\"Third\")\n"
      ],
      "metadata": {
        "colab": {
          "base_uri": "https://localhost:8080/",
          "height": 825
        },
        "id": "e4cThPqo9z-O",
        "outputId": "45235543-9c9b-492f-a578-1ec858d6bdd6"
      },
      "execution_count": null,
      "outputs": [
        {
          "output_type": "execute_result",
          "data": {
            "text/plain": [
              "Text(0.5, 1.0, 'Third')"
            ]
          },
          "metadata": {},
          "execution_count": 177
        },
        {
          "output_type": "display_data",
          "data": {
            "image/png": "[encoded data removed]",
            "text/plain": [
              "<Figure size 1440x1008 with 3 Axes>"
            ]
          },
          "metadata": {
            "needs_background": "light"
          }
        }
      ]
    },
    {
      "cell_type": "code",
      "source": [
        "class CNN_batch(nn.Module):\n",
        "    \n",
        "    # Contructor\n",
        "    def __init__(self, out_1=16, out_2=32,number_of_classes=10):\n",
        "        super(CNN_batch, self).__init__()\n",
        "        self.cnn1 = nn.Conv2d(in_channels=1, out_channels=out_1, kernel_size=5, padding=2)\n",
        "        self.conv1_bn = nn.BatchNorm2d(out_1)\n",
        "\n",
        "        self.maxpool1=nn.MaxPool2d(kernel_size=2)\n",
        "        \n",
        "        self.cnn2 = nn.Conv2d(in_channels=out_1, out_channels=out_2, kernel_size=5, stride=1, padding=2)\n",
        "        self.conv2_bn = nn.BatchNorm2d(out_2)\n",
        "\n",
        "        self.maxpool2=nn.MaxPool2d(kernel_size=2)\n",
        "        self.fc1 = nn.Linear(out_2 * 4 * 4, number_of_classes)\n",
        "        self.bn_fc1 = nn.BatchNorm1d(10)\n",
        "    \n",
        "    # Prediction\n",
        "    def forward(self, x):\n",
        "        x = self.cnn1(x)\n",
        "        x=self.conv1_bn(x)\n",
        "        x = torch.relu(x)\n",
        "        x = self.maxpool1(x)\n",
        "        x = self.cnn2(x)\n",
        "        x=self.conv2_bn(x)\n",
        "        x = torch.relu(x)\n",
        "        x = self.maxpool2(x)\n",
        "        x = x.view(x.size(0), -1)\n",
        "        x = self.fc1(x)\n",
        "        x = self.bn_fc1(x)\n",
        "        return x"
      ],
      "metadata": {
        "id": "BJiUdLaG_3HU"
      },
      "execution_count": null,
      "outputs": []
    },
    {
      "cell_type": "code",
      "source": [
        "def train_model(model,train_loader,validation_loader,optimizer,n_epochs=4):\n",
        "    \n",
        "    #global variable \n",
        "    N_test=len(validation_dataset)\n",
        "    test_loss = []\n",
        "    accuracy_list=[]\n",
        "    loss_list=[]\n",
        "    for epoch in range(n_epochs):\n",
        "        for x, y in train_loader:\n",
        "            model.train()\n",
        "            optimizer.zero_grad()\n",
        "            z = model(x)\n",
        "            loss = criterion(z, y)\n",
        "            loss.backward()\n",
        "            optimizer.step()\n",
        "            loss_list.append(loss.item())\n",
        "\n",
        "        correct=0\n",
        "        testloss = 0\n",
        "        #perform a prediction on the validation  data  \n",
        "        for x_test, y_test in validation_loader:\n",
        "            model.eval()\n",
        "            z = model(x_test)\n",
        "            _, yhat = torch.max(z.data, 1)\n",
        "            correct += (yhat == y_test).sum().item()\n",
        "            testloss += criterion(z,y_test)\n",
        "        accuracy = correct / N_test\n",
        "        test = testloss/ len(validation_loader)\n",
        "        accuracy_list.append(accuracy)\n",
        "        test_loss.append(test.item())\n",
        "        print(\"Epoch no.\",epoch+1 ,\"|accuracy: \", round(accuracy, 3),\"%\", \"|total_loss: \", loss.item(),\"|Test loss: \", round(test.item(), 3))\n",
        "     \n",
        "    return test_loss, accuracy_list, loss_list"
      ],
      "metadata": {
        "id": "j4gQYHUOEOkU"
      },
      "execution_count": null,
      "outputs": []
    },
    {
      "cell_type": "code",
      "source": [
        "model = CNN_batch(out_1=16,out_2=32)"
      ],
      "metadata": {
        "id": "rCABB7chkK5E"
      },
      "execution_count": null,
      "outputs": []
    },
    {
      "cell_type": "code",
      "source": [
        "criterion = nn.CrossEntropyLoss()\n",
        "learning_rate = 0.1\n",
        "optimizer = torch.optim.SGD(model.parameters(), lr=learning_rate)\n",
        "train_loader = torch.utils.data.DataLoader(dataset=train_dataset, batch_size=100)\n",
        "validation_loader = torch.utils.data.DataLoader(dataset=validation_dataset, batch_size=5000)\n"
      ],
      "metadata": {
        "id": "c3z5p7dOl3kh"
      },
      "execution_count": null,
      "outputs": []
    },
    {
      "cell_type": "code",
      "source": [
        "n_epochss = 10\n",
        "test_loss_normal,accuracy_list_normal, loss_list_normal = train_model(model=model,n_epochs=n_epochss,train_loader=train_loader,\n",
        "                                                     validation_loader=validation_loader,optimizer=optimizer)"
      ],
      "metadata": {
        "colab": {
          "base_uri": "https://localhost:8080/"
        },
        "id": "vh6vbU8YnRhZ",
        "outputId": "a2a03071-c4dc-4d5d-fc39-b96b0ab5bb65"
      },
      "execution_count": null,
      "outputs": [
        {
          "output_type": "stream",
          "name": "stdout",
          "text": [
            "Epoch no. 1 |accuracy:  0.857 % |total_loss:  0.2660914361476898 |Test loss:  0.406\n",
            "Epoch no. 2 |accuracy:  0.869 % |total_loss:  0.2412799894809723 |Test loss:  0.375\n",
            "Epoch no. 3 |accuracy:  0.872 % |total_loss:  0.2283095419406891 |Test loss:  0.362\n",
            "Epoch no. 4 |accuracy:  0.876 % |total_loss:  0.2153586447238922 |Test loss:  0.343\n",
            "Epoch no. 5 |accuracy:  0.881 % |total_loss:  0.19466283917427063 |Test loss:  0.329\n",
            "Epoch no. 6 |accuracy:  0.883 % |total_loss:  0.18538564443588257 |Test loss:  0.327\n",
            "Epoch no. 7 |accuracy:  0.885 % |total_loss:  0.17620542645454407 |Test loss:  0.319\n",
            "Epoch no. 8 |accuracy:  0.884 % |total_loss:  0.1694650650024414 |Test loss:  0.322\n",
            "Epoch no. 9 |accuracy:  0.886 % |total_loss:  0.15024973452091217 |Test loss:  0.318\n",
            "Epoch no. 10 |accuracy:  0.886 % |total_loss:  0.158731609582901 |Test loss:  0.318\n"
          ]
        }
      ]
    },
    {
      "cell_type": "code",
      "source": [
        "# Plot the loss and accuracy\n",
        "\n",
        "fig, ax1 = plt.subplots() # Create the figure and axes object\n",
        "\n",
        "# Plot the first x and y axes:\n",
        "ax2 = ax1.twinx()\n",
        "ax1.plot([i for i in range(n_epochss)], [i*1000 for i in test_loss_normal], 'r')\n",
        "ax2.plot([i for i in range(n_epochss)], accuracy_list_normal, 'b')\n",
        "\n",
        "ax1.set_xlabel('epoch')\n",
        "ax1.set_ylabel('Cost', color='r')\n",
        "ax2.set_ylabel('Accuracy', color='b')\n",
        "\n",
        "plt.title(\"cost vs accuracy\")\n",
        "plt.legend()\n",
        "\n",
        "plt.show()\n"
      ],
      "metadata": {
        "id": "c0xXJ4VYno2K",
        "colab": {
          "base_uri": "https://localhost:8080/",
          "height": 312
        },
        "outputId": "ad9f337b-b68c-42bb-d548-224366deba8e"
      },
      "execution_count": null,
      "outputs": [
        {
          "output_type": "stream",
          "name": "stderr",
          "text": [
            "No handles with labels found to put in legend.\n"
          ]
        },
        {
          "output_type": "display_data",
          "data": {
            "image/png": "[encoded data removed]",
            "text/plain": [
              "<Figure size 432x288 with 2 Axes>"
            ]
          },
          "metadata": {
            "needs_background": "light"
          }
        }
      ]
    },
    {
      "cell_type": "code",
      "source": [
        ""
      ],
      "metadata": {
        "id": "i1Mu7cN_ZcEW"
      },
      "execution_count": null,
      "outputs": []
    }
  ]
}